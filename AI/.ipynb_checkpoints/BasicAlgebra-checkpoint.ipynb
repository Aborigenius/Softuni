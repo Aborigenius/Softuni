{
 "cells": [
  {
   "cell_type": "code",
   "execution_count": 1,
   "metadata": {},
   "outputs": [],
   "source": [
    "#matplotlib inline\n",
    "import numpy as np\n",
    "import numpy.polynomial.polynomial as p\n",
    "import sympy\n",
    "import matplotlib.pyplot as plt"
   ]
  },
  {
   "cell_type": "markdown",
   "metadata": {},
   "source": [
    "# <center> Basic Algebra</center>\n"
   ]
  },
  {
   "cell_type": "markdown",
   "metadata": {},
   "source": [
    "## <center> In This Lesson </center> \n",
    "- Polynomials\n",
    "- Sets\n",
    "- Functions\n",
    "- Coordinates\n",
    "- Complex Numbers\n",
    "- Abstractions\n"
   ]
  },
  {
   "cell_type": "markdown",
   "metadata": {},
   "source": [
    "**Polynomials** - linear, quadratic, monomials\n",
    "- monomials: Coefficient,1 varable only, power (num $\\geq$ 0)\n",
    "- example: $2x^2$, $2x^4 + 3x^2 - 0.5x + 2.72$\n",
    "- the standard way of presenting them in a way that computer will understand is as arrays (index ⇒ power, value ⇒ coefficient)\n",
    "$2x^2$ for example is:\n",
    "\n",
    "#### Remark - Each array has attributes ndim (the number of dimensions), shape (the size of each dimension), and size (the total size of the array)"
   ]
  },
  {
   "cell_type": "code",
   "execution_count": 2,
   "metadata": {},
   "outputs": [
    {
     "name": "stdout",
     "output_type": "stream",
     "text": [
      "[0 0 2]\n",
      "a ndim: 1\n",
      "a shape: (3,)\n",
      "a size: 3\n"
     ]
    }
   ],
   "source": [
    " a = np.array([0, 0, 2])\n",
    "print (a)\n",
    "print(\"a ndim:\", a.ndim)\n",
    "print(\"a shape:\", a.shape)\n",
    "print(\"a size:\", a.size)"
   ]
  },
  {
   "cell_type": "markdown",
   "metadata": {},
   "source": [
    "- Another Example, please note that array is printed reversed, to fix it we can use list(reversed(list)), for cycle or sympy"
   ]
  },
  {
   "cell_type": "code",
   "execution_count": 3,
   "metadata": {},
   "outputs": [
    {
     "data": {
      "text/plain": [
       "array([ 16., -10.,  -4.,   0., -24.,  15.,   6.])"
      ]
     },
     "execution_count": 3,
     "metadata": {},
     "output_type": "execute_result"
    }
   ],
   "source": [
    "result = p.polymul([-8, 5, 2], [-2, 0, 0, 0, 3])\n",
    "result\n"
   ]
  },
  {
   "cell_type": "code",
   "execution_count": 4,
   "metadata": {},
   "outputs": [],
   "source": [
    "revResult = list(reversed(result))\n",
    "x = sympy.symbols(\"x\")"
   ]
  },
  {
   "cell_type": "code",
   "execution_count": 5,
   "metadata": {},
   "outputs": [
    {
     "name": "stdout",
     "output_type": "stream",
     "text": [
      "6.0\n",
      "15.0\n",
      "-24.0\n",
      "0.0\n",
      "-4.0\n",
      "-10.0\n",
      "16.0\n"
     ]
    }
   ],
   "source": [
    "for i in range(len(result)-1, -1, -1):\n",
    "    print(result[i])"
   ]
  },
  {
   "cell_type": "code",
   "execution_count": 6,
   "metadata": {},
   "outputs": [
    {
     "data": {
      "text/latex": [
       "$\\displaystyle \\operatorname{Poly}{\\left( 6.0 x^{6} + 15.0 x^{5} - 24.0 x^{4} - 4.0 x^{2} - 10.0 x + 16.0, x, domain=\\mathbb{R} \\right)}$"
      ],
      "text/plain": [
       "Poly(6.0*x**6 + 15.0*x**5 - 24.0*x**4 - 4.0*x**2 - 10.0*x + 16.0, x, domain='RR')"
      ]
     },
     "execution_count": 6,
     "metadata": {},
     "output_type": "execute_result"
    }
   ],
   "source": [
    "sympy.Poly(revResult, x)"
   ]
  },
  {
   "cell_type": "markdown",
   "metadata": {},
   "source": [
    "## Sets $\\{x \\in \\mathbb{R} | x \\geq 0\\}$\n",
    "\n",
    "##### Definition - an unordered collection of things, usually numbers, NO Repetitions! <br> \"The set of numbers x, which are a subset of the real numbers, which are greater than or equal to zero\"<br> Left: example element Right: conditions to satisfy\n",
    "\n",
    "##### In Python - similar to list, but with curly braces {0,1,2,$\\dotsc$9}"
   ]
  },
  {
   "cell_type": "code",
   "execution_count": 7,
   "metadata": {},
   "outputs": [
    {
     "name": "stdout",
     "output_type": "stream",
     "text": [
      "{0, 1, 2, 3, 4}\n"
     ]
    }
   ],
   "source": [
    "positive_x = {x for x in range(-5, 5) if x >= 0}\n",
    "print(positive_x)"
   ]
  },
  {
   "attachments": {},
   "cell_type": "markdown",
   "metadata": {},
   "source": [
    "#### Set Operations\n",
    "Cardinality: number of elements\n",
    "Checking whether an element is in the set: $ x \\in S $ <br>\n",
    "Checking whether a set is subset of another set: $ S_1 \\subset S_2 $ <br>\n",
    "Union $ S_1 \\cup S_2$, intersection $S_1 \\cap S_2$, difference $S_1 \\setminus S_2$ <br>\n",
    "When we have no result from set operation an empty set is returned - notation $\\emptyset$  or  $\\varnothing$"
   ]
  },
  {
   "cell_type": "code",
   "execution_count": 8,
   "metadata": {},
   "outputs": [
    {
     "name": "stdout",
     "output_type": "stream",
     "text": [
      "4\n",
      "True\n",
      "True\n",
      "True\n",
      "{1, 2, 3, 4, 5, 10}\n",
      "{1, 2}\n",
      "{10, 5}\n",
      "{1, 2, 5, 10}\n"
     ]
    }
   ],
   "source": [
    "set1 = { 1, 2, 3, 4 }\n",
    "set2 = {3, 4, 5, 10, 3, 5, 10, 3, 3}\n",
    "print(len(set2)) \n",
    "print(1 in set1) \n",
    "print(10 not in set1) \n",
    "print({1, 2}.issubset(set1))\n",
    "print(set1.union(set2)) \n",
    "print(set1.difference(set2)) \n",
    "print(set2.difference(set1)) #what is first is important\n",
    "print(set1.symmetric_difference(set2)) #note the difference with the one above!"
   ]
  },
  {
   "attachments": {},
   "cell_type": "markdown",
   "metadata": {},
   "source": [
    "## Functions - $ f $\n",
    "#### Math Notation $ f \\colon X \\to Y $\n",
    "Commonly abbreviated as $ y = f(x)$\n",
    "#### Funtions have 3 main members - NAME, PARAMETERS, What's Returned\n",
    "A relation between \n",
    "A set of inputs     $\\color {Turquoise}{(domain) }$ <br>\n",
    "… and a set of outputs     $\\color {Turquoise} {(codomain)}$ <br>\n",
    "$ \\textbf {One input produces exactly one output} $<br>\n",
    "The inputs don’t need to be numbers<br>\n",
    "Functions don’t know how to compute the output, they’re just mappings<br>\n",
    "In programming, we’re writing procedures! <br>\n",
    "Some more definitions: <br>\n",
    "$\\color{SkyBlue}{Injective}$ (one-to-one): unique inputs => unique outputs <br>\n",
    "$\\color{SkyBlue} {Surjective} $(onto): every element in the codomain is mapped <br>\n",
    "$\\color{SkyBlue} {Bijective} $ (one-to-one correspondence): injective and surjective "
   ]
  },
  {
   "cell_type": "code",
   "execution_count": 9,
   "metadata": {},
   "outputs": [],
   "source": [
    "def simpleFun (a,b):\n",
    "    return a + b"
   ]
  },
  {
   "attachments": {},
   "cell_type": "markdown",
   "metadata": {},
   "source": [
    "### Function Composition\n",
    "<ul> <li>Also called pipelining in most languages </li>\n",
    "    <ul><li>Takes two functions and applies them in order </li>\n",
    "        <li> $\\textbf {Innermost to outermost} $ </li>\n",
    "        <li> Math notation: $ f \\circ g = f(g(x)) $ </li>\n",
    "        <li> Can be generalized to more functions </li>\n",
    "    </ul>\n",
    "    <li> $\\textbf {Note that the order matters!!!!}$ </li>\n",
    "    <ul>\n",
    "    <li> $ f(x) = 2x + 3, g(x) = 2x^2 $ </li>\n",
    "    <li> $ (f \\circ g)(x) = fg(x)) = f(x^2) = 2x^2 + 3$ </li>\n",
    "    <li> $ (g \\circ f)(x) = g(f(x)) = g(2x + 3) = (2x + 3)^2 $ </li>\n",
    "    </ul>\n",
    "    <li> This kind of notation is confusing (not can be sometimes, it is confusing), will try explanation\n",
    "        <ul>\n",
    "            <li> $x$ is only a placeholder </li>\n",
    "            <li> We've used the same letter $x$ for different inputs </li>\n",
    "            <li> Tip: When working with complicated functions, be vary careful what the inputs and outputs are and how variables depend on other variables </li>\n",
    "        </ul>\n",
    "    <li> Functions and compositions are the basis of functional programing</li>\n",
    "</ul>"
   ]
  },
  {
   "cell_type": "code",
   "execution_count": 10,
   "metadata": {},
   "outputs": [],
   "source": [
    "x = np.linspace(-2 * np.pi, 2 * np. pi, 5000)\n",
    "y1 = np.sin(x)\n",
    "y2 = np.cos(x)"
   ]
  },
  {
   "cell_type": "code",
   "execution_count": 11,
   "metadata": {},
   "outputs": [
    {
     "data": {
      "image/png": "[encoded data removed]",
      "text/plain": [
       "<Figure size 432x288 with 1 Axes>"
      ]
     },
     "metadata": {
      "needs_background": "light"
     },
     "output_type": "display_data"
    }
   ],
   "source": [
    "plt.plot(x,y1, label = \"sin(x)\")\n",
    "plt.plot(x,y2, label = \"cos(x)\")\n",
    "plt.legend()\n",
    "plt.show()"
   ]
  },
  {
   "cell_type": "code",
   "execution_count": 12,
   "metadata": {},
   "outputs": [],
   "source": [
    "def plot_functions(functions, x_min, x_max, num_points):\n",
    "    x = np.linspace(x_min, x_max, num_points)\n",
    "    for f in functions:\n",
    "        y =f(x)\n",
    "        plt.plot(x,y)\n",
    "    plt.gca().set_aspect(\"equal\")   \n",
    "    plt.show()\n"
   ]
  },
  {
   "cell_type": "code",
   "execution_count": null,
   "metadata": {},
   "outputs": [],
   "source": []
  },
  {
   "cell_type": "code",
   "execution_count": 13,
   "metadata": {},
   "outputs": [
    {
     "data": {
      "image/png": "[encoded data removed]",
      "text/plain": [
       "<Figure size 432x288 with 1 Axes>"
      ]
     },
     "metadata": {
      "needs_background": "light"
     },
     "output_type": "display_data"
    }
   ],
   "source": [
    "plot_functions([np.sin, lambda x: 2 * x + 3], -2 * np.pi, 2 * np.pi, 5000)"
   ]
  },
  {
   "cell_type": "code",
   "execution_count": 14,
   "metadata": {},
   "outputs": [
    {
     "data": {
      "image/png": "[encoded data removed]",
      "text/plain": [
       "<Figure size 432x288 with 1 Axes>"
      ]
     },
     "metadata": {
      "needs_background": "light"
     },
     "output_type": "display_data"
    }
   ],
   "source": [
    "plot_functions([lambda x: np.sqrt(1 - x ** 2 ),lambda x: -np.sqrt(1 - x ** 2 )],-1,1,5000)"
   ]
  },
  {
   "cell_type": "code",
   "execution_count": 15,
   "metadata": {},
   "outputs": [],
   "source": [
    "phi = np.linspace(0, 2 * np.pi, 5000)\n",
    "r = [1] * 5000"
   ]
  },
  {
   "cell_type": "code",
   "execution_count": 16,
   "metadata": {},
   "outputs": [
    {
     "data": {
      "text/plain": [
       "[<matplotlib.lines.Line2D at 0x18e839934c8>]"
      ]
     },
     "execution_count": 16,
     "metadata": {},
     "output_type": "execute_result"
    },
    {
     "data": {
      "image/png": "[encoded data removed]",
      "text/plain": [
       "<Figure size 432x288 with 1 Axes>"
      ]
     },
     "metadata": {
      "needs_background": "light"
     },
     "output_type": "display_data"
    }
   ],
   "source": [
    "plt.polar(phi, r)"
   ]
  },
  {
   "cell_type": "markdown",
   "metadata": {},
   "source": [
    "## Complex Numbers\n",
    "$\\textbf {Not As Complex As They Seem} $"
   ]
  },
  {
   "cell_type": "markdown",
   "metadata": {},
   "source": [
    " $ \\color {CornflowerBlue}{Number \\ Fields} $\n",
    " <ul>\n",
    "    <li> Field </li>\n",
    "    <ul>\n",
    "        <li> A collection of values with operations \"plus\" and \"times\"</li>\n",
    "        <li> Algebra is so abstract we can redefine these operations </li>\n",
    "    </ul>\n",
    "    <li> History of number fields</li>\n",
    "    <ul>\n",
    "        <li> Natural (counting) numbers $\\mathbb N$ = {0, 1, 2, $\\dots$}</li>\n",
    "        <li> Integers $\\mathbb Z$ = {$\\dots$,-2,-1,0,1,2,$\\dots$} </li>\n",
    "        <ul>\n",
    "            <li>Subtraction</li>\n",
    "        </ul>\n",
    "        <li> Rational Numbers $\\mathbb Q$ ratio of two integers</li>\n",
    "        <ul>\n",
    "            <li> Division </li>\n",
    "            <li> This is $\\textbf {the smallest field}$</li>\n",
    "        </ul>\n",
    "        <li> Real Numbers $\\mathbb R $ = $\\mathbb Q$ $\\cup $ $\\mathbb I$</li>\n",
    "        <ul>\n",
    "            <li> Most roots (e.g. $\\sqrt 2$)</li>\n",
    "        </ul>\n",
    "        <li> $ \\color {CornflowerBlue} {Complex Numbers}$ $ \\mathbb C $</li>\n",
    "        <ul> \n",
    "            <li>All roots (including square roots of negative number </li>\n",
    "            <li> \"Imaginary Units\": $\\rm{i}$ is the positive solution of $x^2 = -1$</li>\n",
    "        </ul>\n",
    "            "
   ]
  },
  {
   "cell_type": "markdown",
   "metadata": {},
   "source": [
    "## $ \\color {CornflowerBlue} {Complex \\ Numbers}$"
   ]
  },
  {
   "cell_type": "markdown",
   "metadata": {},
   "source": [
    "<ul>\n",
    "    <li> Pairs of real numbers: $ (a;b) : a,b  \\in \\mathbb {R}$</li>\n",
    "    <ul>\n",
    "        <li> Commonly written as $a+bi$ </li>\n",
    "        <li> Real part: $ \\operatorname{Re}(a+bi) = a $, imaginery part: $\\operatorname{Im}(a+bi) = b $</li>\n",
    "    </ul>\n",
    "    <li> in Python we use $j$ instead of $i$ <br>\n",
    "     $\\fbox{3j}$ $\\fbox {1j}$ $\\fbox{3 +2j}$</li>\n",
    "    <li> Note that we write $1j$ to prevent confusion with the variable $j$</li>\n",
    "    <li> For the same reason, we don't write $ 2 * j $ if $j$ is the imaginary unit      \n",
    "    </ul>\n",
    "    <li> We can get the real and imaginary parts <br>"
   ]
  },
  {
   "cell_type": "code",
   "execution_count": 17,
   "metadata": {},
   "outputs": [
    {
     "name": "stdout",
     "output_type": "stream",
     "text": [
      "3.0\n",
      "2.0\n"
     ]
    },
    {
     "data": {
      "text/plain": [
       "complex"
      ]
     },
     "execution_count": 17,
     "metadata": {},
     "output_type": "execute_result"
    }
   ],
   "source": [
    "z = 3 + 2j\n",
    "print(z.real) #3\n",
    "print(z.imag) #2\n",
    "type(z)"
   ]
  },
  {
   "attachments": {},
   "cell_type": "markdown",
   "metadata": {},
   "source": [
    "## $ \\color {CornflowerBlue} \\ {Geometric Interpretation}$\n",
    "<ul> \n",
    "    <li> $\\textbf {Intuition} $</li>\n",
    "    <ul>\n",
    "        <li> We can plot the coordinate pairs on the plane </li>\n",
    "        <li> Each point in the 2D space represents one complex number </li>\n",
    "    </ul>\n",
    "    <li>$\\textbf {...But} $</li>\n",
    "    <ul>\n",
    "        <ul> \n",
    "            <li> We saw we can change our perspective a little bit </li>\n",
    "            <li> Polar coordinates: we can use the same transformmation</li>\n",
    "            <ul>\n",
    "                <li> $\\rho$ = |z| - $ \\color {CornflowerBlue} {module}$ of the complex number </li>\n",
    "                <li>  $\\phi$ = arg(z) - $ \\color {CornflowerBlue}{argument}$ of the complex number </li>\n",
    "                <li> $ \\alpha $ = $\\rho  cos(\\phi), \\beta = \\rho sin (\\phi) $</li>\n",
    "            </ul>\n",
    "            <li> Why we do this? </li>\n",
    "            <ul>\n",
    "                <li> some operations (e.g. multiplication and division) are easier in polar coordinates </li>\n",
    "                <li> Powers of complex numbers become extremly easy </li>\n",
    "            </ul>\n",
    "            <li> Polar form </li>\n",
    "            <ul>\n",
    "                <li> $ z = a+bi = \\rho(cos(\\phi)  + i sin(\\phi)) $ </li>\n",
    "            \n",
    "                    \n",
    "                "
   ]
  },
  {
   "attachments": {},
   "cell_type": "markdown",
   "metadata": {},
   "source": [
    "## $ \\color {CornflowerBlue} {Euler’s \\ Formula!} $"
   ]
  },
  {
   "cell_type": "markdown",
   "metadata": {},
   "source": [
    "<ul>\n",
    "    <ul>\n",
    "    <li> Leonhard Euler proved that $ \\epsilon^{i\\varphi} = \\cos(\\varphi) + i \\sin(\\varphi)$ </li>\n",
    "    <li> A very beautiful consequence: $ \\epsilon^{i\\pi} + 1 = 0 $\n",
    "    </ul>\n",
    "    <li> Now we can write our complex number as $ \\mathrm{z} = |\\mathrm{z}|\\epsilon^{i\\pi}  $ </li>\n",
    "    <li> Why and how does multiplication work? </li>\n",
    "    <ul>\n",
    "        <li> Multiplication by a real number - Scale the original vector </li>\n",
    "        <li> Multiplication by an imaginary number - Rotate the original vector </li>\n",
    "    </ul>\n",
    "    <li> $\\textbf {Main Point:}$ Multiplicaton of complex numbers is the same as scaling and rotating 2D vectors </li>\n",
    "    <li> Algebra is abstract and only $\\textbf {Йордан Даракчиев} $ loves it for now </li>\n",
    "        "
   ]
  },
  {
   "cell_type": "markdown",
   "metadata": {},
   "source": [
    "## $ \\color {CornflowerBlue} {Fundamental \\ Theorem \\ of \\ Algebra}$\n",
    "### Roots, roots, and more roots\n",
    "Всеки Полином има толкова на брой корени колкото е неговата степен (точно толкова)"
   ]
  },
  {
   "cell_type": "markdown",
   "metadata": {},
   "source": [
    "Example(a bit weird): <br>\n",
    "$ (x - 1)^2 = 0 $<br>\n",
    "$ x_1 = x_2 = 1 $"
   ]
  },
  {
   "cell_type": "code",
   "execution_count": null,
   "metadata": {},
   "outputs": [],
   "source": []
  }
 ],
 "metadata": {
  "kernelspec": {
   "display_name": "Python 3",
   "language": "python",
   "name": "python3"
  },
  "language_info": {
   "codemirror_mode": {
    "name": "ipython",
    "version": 3
   },
   "file_extension": ".py",
   "mimetype": "text/x-python",
   "name": "python",
   "nbconvert_exporter": "python",
   "pygments_lexer": "ipython3",
   "version": "3.7.6"
  }
 },
 "nbformat": 4,
 "nbformat_minor": 4
}
